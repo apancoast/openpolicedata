{
 "cells": [
  {
   "attachments": {},
   "cell_type": "markdown",
   "metadata": {},
   "source": [
    "# Examples"
   ]
  },
  {
   "attachments": {},
   "cell_type": "markdown",
   "metadata": {
    "tags": [
     "nbsphinx-gallery"
    ]
   },
   "source": [
    " * [Summarizing OpenPoliceData data](opd-examples/summarize_opd_data.ipynb)\n",
    " * [Finding datasets](opd-examples/finding_datasets.ipynb)\n",
    " * [Loading datasets](opd-examples/loading_datasets.ipynb)\n",
    " * [Export dataset to CSV](opd-examples/export_dataset_to_csv.ipynb)\n",
    " * [A simple data analysis](opd-examples/analyze_datasets.ipynb)\n",
    " * [Full example for Python beginners](opd-examples/analysis_examples/example_arrests_analysis_with_python_tutorial.ipynb)\n"
   ]
  }
 ],
 "metadata": {
  "kernelspec": {
   "display_name": "docs-test",
   "language": "python",
   "name": "python3"
  },
  "language_info": {
   "codemirror_mode": {
    "name": "ipython",
    "version": 3
   },
   "file_extension": ".py",
   "mimetype": "text/x-python",
   "name": "python",
   "nbconvert_exporter": "python",
   "pygments_lexer": "ipython3",
   "version": "3.11.3"
  },
  "orig_nbformat": 4
 },
 "nbformat": 4,
 "nbformat_minor": 2
}
